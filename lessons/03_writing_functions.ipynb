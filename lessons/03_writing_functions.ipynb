{
 "cells": [
  {
   "cell_type": "markdown",
   "metadata": {},
   "source": [
    "# Good code is small code\n",
    "\n",
    "In the previous lessons, we have seen how to express problems using `for`, `if`, and `while`. In this lesson, we will see how it is possible to *wrap* these instructions in functions. Functions allow you to write code that is modular, can easily be re-used, and (more importantly for us), can easily be tested, validated, and fixed.\n",
    "\n",
    "Throughout this lesson, we will pay attention to decomposing a problem into a series of small parts. The \"[UNIX philosophy][unix]\" is a useful guide for this, and it can be summarized as:\n",
    "\n",
    "1. Make each function do one thing well\n",
    "2. Expect the output of most functions to become the input of another function\n",
    "3. Don't hesitate to throw away and rebuild the clumsy parts\n",
    "\n",
    "In a sense, writing a program works much like writing a manuscript. Writing a manuscript is a *big task*. But decomposing the task into paragraphs makes it more manageable. Having an outline lets you ensure that each paragraph logically flows into the next one. It also lets you rewrite the paragraph without breaking the flow of your manuscript. Good practices in scientific writing also apply to writing code!\n",
    "\n",
    "See the [discussions on this lesson on github][l3issues].\n",
    "[l3issues]: https://github.com/tpoisot/ScientificComputingForTheRestOfUs/labels/lesson%3A3\n",
    "\n",
    "[unix]: https://en.wikipedia.org/wiki/Unix_philosophy"
   ]
  },
  {
   "cell_type": "markdown",
   "metadata": {},
   "source": [
    "## After this lesson, you will be able to ... \n",
    "\n",
    "- ... create functions to automate and repeat tasks\n",
    "- ... understand the notions of input and output\n",
    "- ... understand what type stability is"
   ]
  },
  {
   "cell_type": "markdown",
   "metadata": {},
   "source": [
    "## What is the value of $\\pi$ anyways?"
   ]
  },
  {
   "cell_type": "markdown",
   "metadata": {},
   "source": [
    "There is a nifty algorithm to estimate the value of $\\pi$. We start by drawing a square, and the length of its sides is 2. Two what? Two arbitrary units, it doesn't really matter. The circle inscribed within this circle has a radius of $r = 1$ (arbitrary unit). And therefore, this inscribed circle has an area of $\\pi \\times r^2=\\pi$ (arbitrary units squared).\n",
    "\n",
    "Now let's grab some darts (some *computer simulated* darts). If we throw them randomly at the square, they have a chance of falling within the circle ($\\pi / 4$, which is the area of the circle divided by the area of the square), or outside of the circle ($1 - \\pi / 4$). So if we throw a bunch (it's a technical term for *some*) of darts ($N$) at the square, we can measure the number $n$ that fall into the circle, and then estimate that $\\pi \\approx 4\\times(n/N)$."
   ]
  },
  {
   "cell_type": "markdown",
   "metadata": {},
   "source": [
    "We can decompose this problem into a series of steps. First, we need to generate a series of darts, with coordinates in $(0,2)$. This makes the center of the square $(1,1)$. We could have thrown darts in $(-1,1)$ with a center at $(0,0)$; or in $(5,7)$ with a center at $(6,6)$. This is largely arbitrary, but using $(0,2)$ will be save us almost four keystrokes!\n",
    "\n",
    "After the following lesson, it is tempting to write:"
   ]
  },
  {
   "cell_type": "code",
   "execution_count": null,
   "metadata": {},
   "outputs": [],
   "source": [
    "N = 10\n",
    "darts = []\n",
    "for i in 1:N\n",
    "    x,y = rand(2).*2\n",
    "    push!(darts, (x, y))\n",
    "end\n",
    "darts"
   ]
  },
  {
   "cell_type": "markdown",
   "metadata": {},
   "source": [
    "This introduces a few new notations. The `darts = []` instruction creates an *empty* array. This is not the optimal way of approaching this problem, but remember the UNIX philosophy: we'll rewrite this awkard part later. Then we use a `for` loop to throw the darts.\n",
    "\n",
    "At each step of the loop, we generate a new dart: its coordinates are `rand(2)` (two random numbers in $(0,1)$), which we multiply by `2` to have them in $(0,2)$.\n",
    "\n",
    "Finaly, we *add* this set of coordinates to `darts`. The `push!` function will take its first *argument*, and add its second argument at the end. Wait, hold on. What's an argument? It's something you give to a function, to get it to do its work. We will go into this deeply in a few moments.\n",
    "\n",
    "This code works. But it is kind of messy. There is a `N` variable, which is declared even though it is unlikely we will need it (because we can get it from `length(darts)`, remember?). So we will put this code inside its own function."
   ]
  },
  {
   "cell_type": "markdown",
   "metadata": {},
   "source": [
    "In `Julia` (and most other languages), we can declare functions using the following syntax:\n",
    "\n",
    "~~~\n",
    "function functionname(foo, bar)\n",
    "    baz = foo + bar\n",
    "    return baz\n",
    "end\n",
    "~~~\n",
    "\n",
    "This will generate a function called `functionname`, with two arguments. Inside the function, a variable called `baz` will be created, and the function will return its *value*.\n",
    "\n",
    "It is wise to think of functions as conveyor belts. You can put things in, and you will get things out, but you cannot go inside: if you limit the *inputs* to the function to its arguments, and its *effects* to the `return` statement, your function will have a neat, predictible behavior (that is, at least, the theory). Functions that only act on their arguments, and only give you something back through `return`, have no [side effect][se].\n",
    "\n",
    "`Julia` has a special way of indicating functions *with* side effects: they have a `!` at the end. Remember `push!` from the previous code block? The `!` at the end tells you \"Hey, you are going to change things *outside* of this function, be careful\". We will write a few functions with side effects later.\n",
    "\n",
    "[se]: https://en.wikipedia.org/wiki/Side_effect_(computer_science)"
   ]
  },
  {
   "cell_type": "markdown",
   "metadata": {},
   "source": [
    "### Writing a function to throw darts"
   ]
  },
  {
   "cell_type": "markdown",
   "metadata": {},
   "source": [
    "But what if we want to change the number of darts we will generate? What if later, we want to re-use this code for anoter project? What if we don't want to have variables `N` and `darts` in our global scope? In this case, we will write a function.\n",
    "\n",
    "Our function will take an *input*, which is the number of darts we want to throw, and return an *output*, which is an array of coordinates of where the darts hit. The block below presents *one possible* implementation of such a function, with comments about whats is hapenning in every line:"
   ]
  },
  {
   "cell_type": "code",
   "execution_count": null,
   "metadata": {},
   "outputs": [],
   "source": [
    "function throw_darts(n::Int64)\n",
    "    #= Let's create a space to store the results in\n",
    "    \n",
    "    The line below will \"pre-allocate\" a variable called darts.\n",
    "    Its type is an array, with a single dimension, which contains\n",
    "    tuples of two floating point numbers. \n",
    "    \n",
    "    Pre-allocation is useful when the size of objects you maipulate\n",
    "    increases. It tells the computer to reserve enough space in memory.\n",
    "    Also specifying the type of the objects will let the computer \n",
    "    reserve exactly enough space in memory.\n",
    "    =#\n",
    "    darts = Array{Tuple{Float64,Float64},1}(n)\n",
    "    \n",
    "    #=\n",
    "    \n",
    "    Now we can fill the variable with random darts. Julia has\n",
    "    a nice function called `eachindex`, which is able to iterate\n",
    "    over all positions in an array (or more broadly, over a\n",
    "    collection). Using eachindex(darts) is equivalent to\n",
    "    writing 1:length(darts).\n",
    "    \n",
    "    =#\n",
    "    for i in eachindex(darts)\n",
    "        #= \n",
    "        \n",
    "        This line uses a little bit of julian notation:\n",
    "        specifically, adding ... after a variable will\n",
    "        \"unpack\" its elements, which lets us store them\n",
    "        in a tuple. The same thing can be done with \n",
    "        \n",
    "        x, y = rand(2).*2\n",
    "        darts[i] = (x, y)\n",
    "        \n",
    "        =#\n",
    "        darts[i] = (rand(2).*2...)\n",
    "    end\n",
    "    \n",
    "    #=\n",
    "    \n",
    "    Finally, we explicitly return the value of darts. This is \n",
    "    not mandatory (by default julia returns the output of the last\n",
    "    operation that was done within the function), but being explicit\n",
    "    is always better than being implicit.\n",
    "    \n",
    "    =#\n",
    "    return darts\n",
    "end"
   ]
  },
  {
   "cell_type": "markdown",
   "metadata": {},
   "source": [
    "Now, we can *call* this function, using `throw_darts(10)`. You can experiment changing `10` by other values. For example, how do you throw 124 darts?"
   ]
  },
  {
   "cell_type": "markdown",
   "metadata": {},
   "source": [
    "### How many darts are within the circle?"
   ]
  },
  {
   "cell_type": "markdown",
   "metadata": {},
   "source": [
    "Now that we are able to throw darts, we can see how many of them are within the circle. Remember, the circle has a diameter of two, and is centered on $(1, 1)$. It would be tempting to take *all* the darts we generated, and see how many of them are within the circle. But it is almost always better to write functions that do the simplest thing possible: in this case, is a single dart within the circle?\n",
    "\n",
    "This is done by measuring the distance between the darts and the center of the circle -- if it is lower than the radius, then the dart is within the circle. We can calculate the distance between points $(x_1, y_1)$ and $(x_2, y_2)$ as $\\sqrt{(x_1-x_2)^2+(y_1-y_2)^2}$. This is quite easy to write as a function!\n",
    "\n",
    "We can decide that this function will accept as input a first point, another point, and a radius. So the first line will look like:\n",
    "\n",
    "    function is_within_circle(point, center, radius)\n",
    "   \n",
    "Then, we can take the distance between the points as\n",
    "\n",
    "    distance = (point[1]-center[1])^2 + (point[2]-center[2])^2\n",
    "  \n",
    ", and so the point is within the circle if\n",
    "\n",
    "    distance < radius\n",
    "    \n",
    "Let's wrap this up!"
   ]
  },
  {
   "cell_type": "code",
   "execution_count": null,
   "metadata": {},
   "outputs": [],
   "source": [
    "function is_within_circle(point, center, radius)\n",
    "    distance = (point[1]-center[1])^2 + (point[2]-center[2])^2\n",
    "    return distance <= radius\n",
    "end"
   ]
  },
  {
   "cell_type": "markdown",
   "metadata": {},
   "source": [
    "There is a more *idiomatic* way of writing this function -- *idiomatic* means that we are using some language-specific ways of expressing operations. In this case, it could be\n",
    "\n",
    "    function idiomatic_is_within_circle(point, center, radius)\n",
    "        return sum((x.-y).^2) < radius\n",
    "    end\n",
    "\n",
    "Writing things in an idiomatic way is *sometimes* better. But it can be more confusing for people with less familiarity with the language, or more difficult to maintain (unless profusely commented) in the long term."
   ]
  },
  {
   "cell_type": "markdown",
   "metadata": {},
   "source": [
    "Now, let's apply a few sanity checks to this function (we will see much more of this in the next lesson). We know that the center of the circle is within the circle, that a point above the center at a distance equal to the radius is within the circle, and that a point above the center as a distance greater than the radius is not:"
   ]
  },
  {
   "cell_type": "code",
   "execution_count": null,
   "metadata": {},
   "outputs": [],
   "source": [
    "center = (1.0, 1.0)\n",
    "radius = 1.0\n",
    "println(\"Case 1: \", is_within_circle(center, center, radius))\n",
    "println(\"Case 2: \", is_within_circle((1.0, 2.0), center, radius))\n",
    "println(\"Case 3: \", is_within_circle((1.0, 2.1), center, radius))"
   ]
  },
  {
   "cell_type": "markdown",
   "metadata": {},
   "source": [
    "Although these are very simple tests, it seems that our function checks out. So we can move forward. But before we do so, let us take a step back.\n",
    "\n",
    "So far, we have\n",
    "\n",
    "1. A way of throwing random darts\n",
    "2. A way of knowing which of these darts fall within a circle\n",
    "\n",
    "The next step is therefore to take each dart, in turn, and see if they are within the circle! We can do this with a loop. There are a few ways of doing it. \n",
    "\n",
    "The first is to pre-allocate an array of Boolean values (`true`/`false`), with as many spots as we have thrown darts, and store the result of the question *Is this dart within the circle?*.\n",
    "\n",
    "Another is to have a counter, starting at `0`, and we add `1` every time a dart is within the circle.\n",
    "\n",
    "There are probably about another million different ways to do this. Here we will write a function using the counter:"
   ]
  },
  {
   "cell_type": "code",
   "execution_count": null,
   "metadata": {},
   "outputs": [],
   "source": [
    "function how_many_darts(darts, center, radius)\n",
    "    #=\n",
    "    \n",
    "    Our function will take three inputs:\n",
    "    1. the darts we generated\n",
    "    2. the center of the circle\n",
    "    3. the radius of the circle\n",
    "    \n",
    "    =#\n",
    "    \n",
    "    #=\n",
    "    \n",
    "    We create a variable called `n`, and give it a value of `0`\n",
    "    \n",
    "    =#\n",
    "    n = 0\n",
    "    \n",
    "    #=\n",
    "    \n",
    "    This loop uses the `for element in collection` syntax: the variable\n",
    "    `dart` will take every vale in `darts` in turn.\n",
    "    \n",
    "    =#\n",
    "    for dart in darts\n",
    "        \n",
    "        #=\n",
    "        \n",
    "        Only when the dart is within the circle do we\n",
    "        add 1 to the counter:\n",
    "        \n",
    "        =#\n",
    "        if is_within_circle(dart, center, radius)\n",
    "            n = n + 1\n",
    "        end\n",
    "    end\n",
    "    \n",
    "    #=\n",
    "    \n",
    "    Finally, we explicitly return the value of n\n",
    "    \n",
    "    =#\n",
    "    return n\n",
    "end"
   ]
  },
  {
   "cell_type": "markdown",
   "metadata": {},
   "source": [
    "And we're done! Remember, our approximation of $\\pi$ is $4\\times(n/N)$, where $N$ is the number of darts, and $n$ is the number of hits. So we can finally write a function, specifying $N$, and start to estimate the value of $\\pi$:"
   ]
  },
  {
   "cell_type": "code",
   "execution_count": null,
   "metadata": {},
   "outputs": [],
   "source": [
    "function estimate_pi(N)\n",
    "    center = (1.0, 1.0)\n",
    "    radius = 1.0\n",
    "    darts = throw_darts(N)\n",
    "    n = how_many_darts(darts, center, radius)\n",
    "    return 4*n/N\n",
    "end"
   ]
  },
  {
   "cell_type": "markdown",
   "metadata": {},
   "source": [
    "Our function is *building* on the previous, small, functions we wrote. This results in code that is easy to read (we don't have to scroll through multiple screens to see what the function does). Because we have named our functions explicitely, the code is also easy to understand. In the next lesson, we will see that modular code is easy to *test* (and to debug).\n",
    "\n",
    "So, how good is our estimate?"
   ]
  },
  {
   "cell_type": "code",
   "execution_count": null,
   "metadata": {},
   "outputs": [],
   "source": [
    "estimate = estimate_pi(100000)\n",
    "println(\"Estimate: $(estimate)\\tπ: $(π)\")"
   ]
  },
  {
   "cell_type": "markdown",
   "metadata": {},
   "source": [
    "The following code uses the `Plots` package to see how increasing the number of darts brings us closer to the *real* value of $\\pi$:"
   ]
  },
  {
   "cell_type": "code",
   "execution_count": null,
   "metadata": {},
   "outputs": [],
   "source": [
    "using Plots\n",
    "N = Int64.(round.(10.^linspace(2, 6, 20), 0))\n",
    "estimate = zeros(Float64, length(N))\n",
    "for i in eachindex(N)\n",
    "    estimate[i] = estimate_pi(N[i])\n",
    "end\n",
    "plot(N, estimate, lab=\"Estimation\", c=:teal, lw=2, frame=:box)\n",
    "hline!([π], lab=\"π\", c=:lightgrey)\n",
    "xaxis!(:log10)"
   ]
  },
  {
   "cell_type": "markdown",
   "metadata": {},
   "source": [
    "## Keyword arguments and default values"
   ]
  },
  {
   "cell_type": "markdown",
   "metadata": {},
   "source": [
    "TODO"
   ]
  },
  {
   "cell_type": "markdown",
   "metadata": {},
   "source": [
    "## A note on type stability"
   ]
  },
  {
   "cell_type": "markdown",
   "metadata": {},
   "source": [
    "An important but often overlooked notion is \"type stability\". In a nutshell, it means that within a function, the variables do not change their type. John Myles White wrote a [great blog post about it][jmw], which I encourage you to read after going through this lesson.\n",
    "\n",
    "[jmw]: http://www.johnmyleswhite.com/notebook/2013/12/06/writing-type-stable-code-in-julia/\n",
    "\n",
    "The issue with computers (well, one of) is that they give types to everything. While for us, 2, 2.0, and 2.000000...00 are the same thing, this is not the case for our computers. And we need to pay attention to this fact to write code that is reasonably fast. Let's start with a few illustrations:"
   ]
  },
  {
   "cell_type": "code",
   "execution_count": null,
   "metadata": {},
   "outputs": [],
   "source": [
    "typeof(0)"
   ]
  },
  {
   "cell_type": "code",
   "execution_count": null,
   "metadata": {},
   "outputs": [],
   "source": [
    "typeof(0.0)"
   ]
  },
  {
   "cell_type": "markdown",
   "metadata": {},
   "source": [
    "The `typeof` function tells us how the computer is thinking about its argument: `0` is an integer number, and `0.0` is a floating point number.\n",
    "\n",
    "Now, if I were to ask you what the sum of 0 and 1.0 is, you would not take longer than if I has asked you what the sum of 0.0 and 1.0 is. Is it true for the computer?"
   ]
  },
  {
   "cell_type": "code",
   "execution_count": null,
   "metadata": {},
   "outputs": [],
   "source": [
    "time_int_and_float = @elapsed 0 + 1.0\n",
    "time_float_and_float = @elapsed 0.0 + 1.0\n",
    "println(\"It takes $(round(time_int_and_float/time_float_and_float,2)) times longer to work with different types!\")"
   ]
  },
  {
   "cell_type": "markdown",
   "metadata": {},
   "source": [
    "The exact number may vary, but on my machine, it takes about 1.5 times longer to do the operation with different types. Why is that?\n",
    "\n",
    "It is because the computer needs to \"rethink\" about one of these numbers (*i.e.* to change `0` in `0.0`, or `1.0` in `1`), before it can do the actual operation. There is no obvious (or beginner-friendly) way to identify functions in which arguments. This being said, writing short functions, and thinking about what goes in and out, will help catch some mistakes."
   ]
  },
  {
   "cell_type": "markdown",
   "metadata": {},
   "source": [
    "And speaking of catching mistakes.... the next lesson will be focused on making sure our code does what we want it to do. We will discuss defensive programming and a little bit of testing."
   ]
  }
 ],
 "metadata": {
  "kernelspec": {
   "display_name": "Julia 0.6.2",
   "language": "julia",
   "name": "julia-0.6"
  },
  "language_info": {
   "file_extension": ".jl",
   "mimetype": "application/julia",
   "name": "julia",
   "version": "0.6.2"
  }
 },
 "nbformat": 4,
 "nbformat_minor": 2
}
